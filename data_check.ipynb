{
 "cells": [
  {
   "cell_type": "code",
   "execution_count": 54,
   "metadata": {
    "collapsed": true
   },
   "outputs": [],
   "source": [
    "import pandas as pd"
   ]
  },
  {
   "cell_type": "markdown",
   "source": [
    "Create DataFrame using existing csv file"
   ],
   "metadata": {
    "collapsed": false
   }
  },
  {
   "cell_type": "code",
   "execution_count": 55,
   "outputs": [],
   "source": [
    "df = pd.read_csv(\"data.csv\", delimiter=\";\", header=0)"
   ],
   "metadata": {
    "collapsed": false
   }
  },
  {
   "cell_type": "markdown",
   "source": [
    "Check the DataFrame content"
   ],
   "metadata": {
    "collapsed": false
   }
  },
  {
   "cell_type": "code",
   "execution_count": 56,
   "outputs": [
    {
     "data": {
      "text/plain": "         asin  brand              id  source  stars   timestamp\n0  B0014D3N0Q  Downy  R11QPQWAH45REP  amazon      5  1548799200\n1  B0014D3N0Q  Downy  R3RFSN6FNTQ4JI  amazon      5  1546898400\n2  B0014D3N0Q  Downy   RVEQH20A3EP0A  amazon      3  1546812000\n3  B0014D3N0Q  Downy   RC0ONQQQXLWR9  amazon      1  1545516000\n4  B0014D3N0Q  Downy  R2OHUO09CNTE09  amazon      5  1543269600",
      "text/html": "<div>\n<style scoped>\n    .dataframe tbody tr th:only-of-type {\n        vertical-align: middle;\n    }\n\n    .dataframe tbody tr th {\n        vertical-align: top;\n    }\n\n    .dataframe thead th {\n        text-align: right;\n    }\n</style>\n<table border=\"1\" class=\"dataframe\">\n  <thead>\n    <tr style=\"text-align: right;\">\n      <th></th>\n      <th>asin</th>\n      <th>brand</th>\n      <th>id</th>\n      <th>source</th>\n      <th>stars</th>\n      <th>timestamp</th>\n    </tr>\n  </thead>\n  <tbody>\n    <tr>\n      <th>0</th>\n      <td>B0014D3N0Q</td>\n      <td>Downy</td>\n      <td>R11QPQWAH45REP</td>\n      <td>amazon</td>\n      <td>5</td>\n      <td>1548799200</td>\n    </tr>\n    <tr>\n      <th>1</th>\n      <td>B0014D3N0Q</td>\n      <td>Downy</td>\n      <td>R3RFSN6FNTQ4JI</td>\n      <td>amazon</td>\n      <td>5</td>\n      <td>1546898400</td>\n    </tr>\n    <tr>\n      <th>2</th>\n      <td>B0014D3N0Q</td>\n      <td>Downy</td>\n      <td>RVEQH20A3EP0A</td>\n      <td>amazon</td>\n      <td>3</td>\n      <td>1546812000</td>\n    </tr>\n    <tr>\n      <th>3</th>\n      <td>B0014D3N0Q</td>\n      <td>Downy</td>\n      <td>RC0ONQQQXLWR9</td>\n      <td>amazon</td>\n      <td>1</td>\n      <td>1545516000</td>\n    </tr>\n    <tr>\n      <th>4</th>\n      <td>B0014D3N0Q</td>\n      <td>Downy</td>\n      <td>R2OHUO09CNTE09</td>\n      <td>amazon</td>\n      <td>5</td>\n      <td>1543269600</td>\n    </tr>\n  </tbody>\n</table>\n</div>"
     },
     "execution_count": 56,
     "metadata": {},
     "output_type": "execute_result"
    }
   ],
   "source": [
    "df.head(5)"
   ],
   "metadata": {
    "collapsed": false
   }
  },
  {
   "cell_type": "markdown",
   "source": [
    "Check consistency of column naming"
   ],
   "metadata": {
    "collapsed": false
   }
  },
  {
   "cell_type": "code",
   "execution_count": 57,
   "outputs": [
    {
     "data": {
      "text/plain": "Index([' asin', 'brand', 'id', 'source', 'stars', 'timestamp'], dtype='object')"
     },
     "execution_count": 57,
     "metadata": {},
     "output_type": "execute_result"
    }
   ],
   "source": [
    "df.columns"
   ],
   "metadata": {
    "collapsed": false
   }
  },
  {
   "cell_type": "markdown",
   "source": [
    "Transform timestamp field into readable format. Rename \"asin\" field"
   ],
   "metadata": {
    "collapsed": false
   }
  },
  {
   "cell_type": "code",
   "execution_count": 58,
   "outputs": [],
   "source": [
    "df[\"timestamp\"] = pd.to_datetime(df[\"timestamp\"], unit=\"s\")\n",
    "df = df.rename(columns={\" asin\": \"asin\"})"
   ],
   "metadata": {
    "collapsed": false
   }
  },
  {
   "cell_type": "markdown",
   "source": [
    "Check if there are any empty cells"
   ],
   "metadata": {
    "collapsed": false
   }
  },
  {
   "cell_type": "code",
   "execution_count": 59,
   "outputs": [
    {
     "data": {
      "text/plain": "asin                 object\nbrand                object\nid                   object\nsource               object\nstars                 int64\ntimestamp    datetime64[ns]\ndtype: object"
     },
     "execution_count": 59,
     "metadata": {},
     "output_type": "execute_result"
    }
   ],
   "source": [
    "df.dtypes"
   ],
   "metadata": {
    "collapsed": false
   }
  },
  {
   "cell_type": "code",
   "execution_count": 60,
   "outputs": [
    {
     "data": {
      "text/plain": "asin         0\nbrand        0\nid           0\nsource       0\nstars        0\ntimestamp    0\ndtype: int64"
     },
     "execution_count": 60,
     "metadata": {},
     "output_type": "execute_result"
    }
   ],
   "source": [
    "df.isnull().sum()"
   ],
   "metadata": {
    "collapsed": false
   }
  }
 ],
 "metadata": {
  "kernelspec": {
   "display_name": "Python 3",
   "language": "python",
   "name": "python3"
  },
  "language_info": {
   "codemirror_mode": {
    "name": "ipython",
    "version": 2
   },
   "file_extension": ".py",
   "mimetype": "text/x-python",
   "name": "python",
   "nbconvert_exporter": "python",
   "pygments_lexer": "ipython2",
   "version": "2.7.6"
  }
 },
 "nbformat": 4,
 "nbformat_minor": 0
}
